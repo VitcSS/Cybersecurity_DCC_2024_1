{
  "cells": [
    {
      "cell_type": "code",
      "execution_count": 199,
      "id": "fe98baa8",
      "metadata": {
        "execution": {
          "iopub.execute_input": "2021-11-11T18:03:30.156530Z",
          "iopub.status.busy": "2021-11-11T18:03:30.155221Z",
          "iopub.status.idle": "2021-11-11T18:03:31.716440Z",
          "shell.execute_reply": "2021-11-11T18:03:31.715642Z",
          "shell.execute_reply.started": "2021-11-09T12:03:56.185526Z"
        },
        "papermill": {
          "duration": 1.579834,
          "end_time": "2021-11-11T18:03:31.716606",
          "exception": false,
          "start_time": "2021-11-11T18:03:30.136772",
          "status": "completed"
        },
        "tags": [],
        "id": "fe98baa8"
      },
      "outputs": [],
      "source": [
        "# Primeiramente vamos importar as bibliotecas usadas neste estudo de caso, como segue.\n",
        "import numpy as np #biblioteca com recursos para álgebra linear\n",
        "import pandas as pd # processamento dos dados, carga de arquivo CSV e de I/O\n",
        "import json\n",
        "from sklearn import *\n",
        "import sklearn.model_selection as model_selection\n",
        "from sklearn.linear_model import LogisticRegression\n",
        "from sklearn.tree import DecisionTreeClassifier\n",
        "from sklearn.ensemble import RandomForestClassifier\n",
        "from sklearn.metrics import accuracy_score\n",
        "\n",
        "from sklearn import preprocessing\n",
        "from sklearn.model_selection import train_test_split\n",
        "from sklearn.model_selection import cross_validate\n",
        "\n",
        "\n",
        "#import matplotlib.pyplot as plt\n",
        "#from collections import Counter\n",
        "#from sklearn.cross_validation import train_test_split"
      ]
    },
    {
      "cell_type": "code",
      "execution_count": 200,
      "id": "028d6e6c",
      "metadata": {
        "execution": {
          "iopub.execute_input": "2021-11-11T18:03:31.749861Z",
          "iopub.status.busy": "2021-11-11T18:03:31.749212Z",
          "iopub.status.idle": "2021-11-11T18:03:31.810266Z",
          "shell.execute_reply": "2021-11-11T18:03:31.809692Z",
          "shell.execute_reply.started": "2021-11-09T12:03:56.196297Z"
        },
        "papermill": {
          "duration": 0.07985,
          "end_time": "2021-11-11T18:03:31.810433",
          "exception": false,
          "start_time": "2021-11-11T18:03:31.730583",
          "status": "completed"
        },
        "tags": [],
        "id": "028d6e6c"
      },
      "outputs": [],
      "source": [
        "# Nós utilizaremos neste caso, o dataset (conjunto de dados) phishing.csv, disponível aqui pra você.\n",
        "# A origem deste arquivo csv foi 'https://archive.ics.uci.edu/ml/datasets/phishing+websites'\n",
        "#\n",
        "# Primeiro, vamos testar o carregamento do arquivo CSV.\n",
        "# Não vamos usar com detalhes a biblioteca pandas neste caso, mas esse trecho de código ajuda a entender o arquivo com o conjunto de dados.\n",
        "df = pd.read_csv('kaggle/input/phishing/phishing.csv')\n",
        "#df.info() #apresenta os metadados do arquivo csv\n",
        "#df.tail(10)\n",
        "#df.describe()"
      ]
    },
    {
      "cell_type": "code",
      "execution_count": 201,
      "id": "4b1db34f",
      "metadata": {
        "execution": {
          "iopub.execute_input": "2021-11-11T18:03:31.846405Z",
          "iopub.status.busy": "2021-11-11T18:03:31.845410Z",
          "iopub.status.idle": "2021-11-11T18:03:32.271457Z",
          "shell.execute_reply": "2021-11-11T18:03:32.271930Z",
          "shell.execute_reply.started": "2021-11-09T12:03:56.245342Z"
        },
        "papermill": {
          "duration": 0.445273,
          "end_time": "2021-11-11T18:03:32.272149",
          "exception": false,
          "start_time": "2021-11-11T18:03:31.826876",
          "status": "completed"
        },
        "tags": [],
        "colab": {
          "base_uri": "https://localhost:8080/"
        },
        "id": "4b1db34f",
        "outputId": "3834532f-3e6f-4e3d-8813-6eafd3bf45c6"
      },
      "outputs": [
        {
          "output_type": "stream",
          "name": "stdout",
          "text": [
            "[[-1  1  1 ...  1 -1 -1]\n",
            " [ 1  1  1 ...  1  1 -1]\n",
            " [ 1  0  1 ...  0 -1 -1]\n",
            " ...\n",
            " [ 1 -1  1 ...  0  1 -1]\n",
            " [-1 -1  1 ...  1  1 -1]\n",
            " [-1 -1  1 ...  1 -1 -1]]\n"
          ]
        }
      ],
      "source": [
        "# Vamos agora carregar o dataset que iremos utilizar na variável np.\n",
        "training_data = np.genfromtxt('kaggle/input/phishing/phishing.csv', delimiter=',', dtype=np.int32)\n",
        "print(training_data) #para ver os dados na variável."
      ]
    },
    {
      "cell_type": "code",
      "execution_count": 202,
      "id": "1f8d8445",
      "metadata": {
        "execution": {
          "iopub.execute_input": "2021-11-11T18:03:32.303767Z",
          "iopub.status.busy": "2021-11-11T18:03:32.303125Z",
          "iopub.status.idle": "2021-11-11T18:03:32.310129Z",
          "shell.execute_reply": "2021-11-11T18:03:32.309515Z",
          "shell.execute_reply.started": "2021-11-09T12:03:56.689756Z"
        },
        "papermill": {
          "duration": 0.023875,
          "end_time": "2021-11-11T18:03:32.310266",
          "exception": false,
          "start_time": "2021-11-11T18:03:32.286391",
          "status": "completed"
        },
        "tags": [],
        "colab": {
          "base_uri": "https://localhost:8080/"
        },
        "id": "1f8d8445",
        "outputId": "f2027074-8c53-4feb-b9a0-f2746fac9797"
      },
      "outputs": [
        {
          "output_type": "stream",
          "name": "stdout",
          "text": [
            "(11055, 30)\n",
            "(11055,)\n"
          ]
        }
      ],
      "source": [
        "# Identificando as entradas (todos os atributos, exceto o último) e as saídas (o último atributo):\n",
        "inputs = training_data[:,:-1]\n",
        "outputs = training_data[:,-1]\n",
        "\n",
        "print(inputs.shape)\n",
        "print(outputs.shape)"
      ]
    },
    {
      "cell_type": "code",
      "execution_count": 203,
      "id": "61e21809",
      "metadata": {
        "execution": {
          "iopub.execute_input": "2021-11-11T18:03:32.512577Z",
          "iopub.status.busy": "2021-11-11T18:03:32.511615Z",
          "iopub.status.idle": "2021-11-11T18:03:32.523878Z",
          "shell.execute_reply": "2021-11-11T18:03:32.523031Z",
          "shell.execute_reply.started": "2021-11-09T12:03:56.74747Z"
        },
        "papermill": {
          "duration": 0.029338,
          "end_time": "2021-11-11T18:03:32.524102",
          "exception": false,
          "start_time": "2021-11-11T18:03:32.494764",
          "status": "completed"
        },
        "tags": [],
        "colab": {
          "base_uri": "https://localhost:8080/"
        },
        "id": "61e21809",
        "outputId": "d3b49ae4-541c-490f-c342-b36848cd8797"
      },
      "outputs": [
        {
          "output_type": "stream",
          "name": "stdout",
          "text": [
            "(8844, 30)\n",
            "(2211, 30)\n",
            "(8844,)\n",
            "(2211,)\n"
          ]
        }
      ],
      "source": [
        "# Dividindo o dataset em treino e teste.\n",
        "#training_inputs = inputs[:2000]\n",
        "#training_outputs = outputs[:2000]\n",
        "#testing_inputs = inputs[2000:]\n",
        "#testing_outputs = outputs[2000:]\n",
        "\n",
        "# dividing the dataset into training and testing:\n",
        "training_inputs, testing_inputs, training_outputs, testing_outputs = model_selection.train_test_split(inputs, outputs, test_size=0.2)\n",
        "\n",
        "print(training_inputs.shape)\n",
        "print(testing_inputs.shape)\n",
        "print(training_outputs.shape)\n",
        "print(testing_outputs.shape)\n"
      ]
    },
    {
      "cell_type": "code",
      "execution_count": 204,
      "id": "1fb68f47",
      "metadata": {
        "execution": {
          "iopub.execute_input": "2021-11-11T18:03:32.557312Z",
          "iopub.status.busy": "2021-11-11T18:03:32.556357Z",
          "iopub.status.idle": "2021-11-11T18:03:32.560012Z",
          "shell.execute_reply": "2021-11-11T18:03:32.560489Z",
          "shell.execute_reply.started": "2021-11-09T12:03:56.763299Z"
        },
        "papermill": {
          "duration": 0.02144,
          "end_time": "2021-11-11T18:03:32.560657",
          "exception": false,
          "start_time": "2021-11-11T18:03:32.539217",
          "status": "completed"
        },
        "tags": [],
        "id": "1fb68f47"
      },
      "outputs": [],
      "source": [
        "classifier1 = LogisticRegression()\n",
        "classifier2 = DecisionTreeClassifier()\n",
        "classifier3 = RandomForestClassifier(max_depth=18, n_estimators=30, max_features=30, random_state=20)"
      ]
    },
    {
      "cell_type": "code",
      "execution_count": 205,
      "id": "410d7fff",
      "metadata": {
        "execution": {
          "iopub.execute_input": "2021-11-11T18:03:32.629262Z",
          "iopub.status.busy": "2021-11-11T18:03:32.628333Z",
          "iopub.status.idle": "2021-11-11T18:03:32.810675Z",
          "shell.execute_reply": "2021-11-11T18:03:32.811525Z",
          "shell.execute_reply.started": "2021-11-09T12:03:56.783105Z"
        },
        "papermill": {
          "duration": 0.200747,
          "end_time": "2021-11-11T18:03:32.811819",
          "exception": false,
          "start_time": "2021-11-11T18:03:32.611072",
          "status": "completed"
        },
        "tags": [],
        "colab": {
          "base_uri": "https://localhost:8080/",
          "height": 92
        },
        "id": "410d7fff",
        "outputId": "06fa7055-7c09-4f07-86ad-345206bc3c57"
      },
      "outputs": [
        {
          "output_type": "execute_result",
          "data": {
            "text/plain": [
              "RandomForestClassifier(max_depth=18, max_features=30, n_estimators=30,\n",
              "                       random_state=20)"
            ],
            "text/html": [
              "<style>#sk-container-id-15 {color: black;background-color: white;}#sk-container-id-15 pre{padding: 0;}#sk-container-id-15 div.sk-toggleable {background-color: white;}#sk-container-id-15 label.sk-toggleable__label {cursor: pointer;display: block;width: 100%;margin-bottom: 0;padding: 0.3em;box-sizing: border-box;text-align: center;}#sk-container-id-15 label.sk-toggleable__label-arrow:before {content: \"▸\";float: left;margin-right: 0.25em;color: #696969;}#sk-container-id-15 label.sk-toggleable__label-arrow:hover:before {color: black;}#sk-container-id-15 div.sk-estimator:hover label.sk-toggleable__label-arrow:before {color: black;}#sk-container-id-15 div.sk-toggleable__content {max-height: 0;max-width: 0;overflow: hidden;text-align: left;background-color: #f0f8ff;}#sk-container-id-15 div.sk-toggleable__content pre {margin: 0.2em;color: black;border-radius: 0.25em;background-color: #f0f8ff;}#sk-container-id-15 input.sk-toggleable__control:checked~div.sk-toggleable__content {max-height: 200px;max-width: 100%;overflow: auto;}#sk-container-id-15 input.sk-toggleable__control:checked~label.sk-toggleable__label-arrow:before {content: \"▾\";}#sk-container-id-15 div.sk-estimator input.sk-toggleable__control:checked~label.sk-toggleable__label {background-color: #d4ebff;}#sk-container-id-15 div.sk-label input.sk-toggleable__control:checked~label.sk-toggleable__label {background-color: #d4ebff;}#sk-container-id-15 input.sk-hidden--visually {border: 0;clip: rect(1px 1px 1px 1px);clip: rect(1px, 1px, 1px, 1px);height: 1px;margin: -1px;overflow: hidden;padding: 0;position: absolute;width: 1px;}#sk-container-id-15 div.sk-estimator {font-family: monospace;background-color: #f0f8ff;border: 1px dotted black;border-radius: 0.25em;box-sizing: border-box;margin-bottom: 0.5em;}#sk-container-id-15 div.sk-estimator:hover {background-color: #d4ebff;}#sk-container-id-15 div.sk-parallel-item::after {content: \"\";width: 100%;border-bottom: 1px solid gray;flex-grow: 1;}#sk-container-id-15 div.sk-label:hover label.sk-toggleable__label {background-color: #d4ebff;}#sk-container-id-15 div.sk-serial::before {content: \"\";position: absolute;border-left: 1px solid gray;box-sizing: border-box;top: 0;bottom: 0;left: 50%;z-index: 0;}#sk-container-id-15 div.sk-serial {display: flex;flex-direction: column;align-items: center;background-color: white;padding-right: 0.2em;padding-left: 0.2em;position: relative;}#sk-container-id-15 div.sk-item {position: relative;z-index: 1;}#sk-container-id-15 div.sk-parallel {display: flex;align-items: stretch;justify-content: center;background-color: white;position: relative;}#sk-container-id-15 div.sk-item::before, #sk-container-id-15 div.sk-parallel-item::before {content: \"\";position: absolute;border-left: 1px solid gray;box-sizing: border-box;top: 0;bottom: 0;left: 50%;z-index: -1;}#sk-container-id-15 div.sk-parallel-item {display: flex;flex-direction: column;z-index: 1;position: relative;background-color: white;}#sk-container-id-15 div.sk-parallel-item:first-child::after {align-self: flex-end;width: 50%;}#sk-container-id-15 div.sk-parallel-item:last-child::after {align-self: flex-start;width: 50%;}#sk-container-id-15 div.sk-parallel-item:only-child::after {width: 0;}#sk-container-id-15 div.sk-dashed-wrapped {border: 1px dashed gray;margin: 0 0.4em 0.5em 0.4em;box-sizing: border-box;padding-bottom: 0.4em;background-color: white;}#sk-container-id-15 div.sk-label label {font-family: monospace;font-weight: bold;display: inline-block;line-height: 1.2em;}#sk-container-id-15 div.sk-label-container {text-align: center;}#sk-container-id-15 div.sk-container {/* jupyter's `normalize.less` sets `[hidden] { display: none; }` but bootstrap.min.css set `[hidden] { display: none !important; }` so we also need the `!important` here to be able to override the default hidden behavior on the sphinx rendered scikit-learn.org. See: https://github.com/scikit-learn/scikit-learn/issues/21755 */display: inline-block !important;position: relative;}#sk-container-id-15 div.sk-text-repr-fallback {display: none;}</style><div id=\"sk-container-id-15\" class=\"sk-top-container\"><div class=\"sk-text-repr-fallback\"><pre>RandomForestClassifier(max_depth=18, max_features=30, n_estimators=30,\n",
              "                       random_state=20)</pre><b>In a Jupyter environment, please rerun this cell to show the HTML representation or trust the notebook. <br />On GitHub, the HTML representation is unable to render, please try loading this page with nbviewer.org.</b></div><div class=\"sk-container\" hidden><div class=\"sk-item\"><div class=\"sk-estimator sk-toggleable\"><input class=\"sk-toggleable__control sk-hidden--visually\" id=\"sk-estimator-id-15\" type=\"checkbox\" checked><label for=\"sk-estimator-id-15\" class=\"sk-toggleable__label sk-toggleable__label-arrow\">RandomForestClassifier</label><div class=\"sk-toggleable__content\"><pre>RandomForestClassifier(max_depth=18, max_features=30, n_estimators=30,\n",
              "                       random_state=20)</pre></div></div></div></div></div>"
            ]
          },
          "metadata": {},
          "execution_count": 205
        }
      ],
      "source": [
        "# Treinando os classificadores.\n",
        "classifier1.fit(training_inputs, training_outputs)\n",
        "classifier2.fit(training_inputs, training_outputs)\n",
        "classifier3.fit(training_inputs, training_outputs)"
      ]
    },
    {
      "cell_type": "code",
      "execution_count": 206,
      "id": "80602b50",
      "metadata": {
        "execution": {
          "iopub.execute_input": "2021-11-11T18:03:32.873393Z",
          "iopub.status.busy": "2021-11-11T18:03:32.872318Z",
          "iopub.status.idle": "2021-11-11T18:03:32.879184Z",
          "shell.execute_reply": "2021-11-11T18:03:32.879978Z",
          "shell.execute_reply.started": "2021-11-09T12:03:56.967304Z"
        },
        "papermill": {
          "duration": 0.041246,
          "end_time": "2021-11-11T18:03:32.880244",
          "exception": false,
          "start_time": "2021-11-11T18:03:32.838998",
          "status": "completed"
        },
        "tags": [],
        "id": "80602b50"
      },
      "outputs": [],
      "source": [
        "# Fazendo as predições.\n",
        "predictions1 = classifier1.predict(testing_inputs)\n",
        "predictions2 = classifier2.predict(testing_inputs)\n",
        "predictions3 = classifier3.predict(testing_inputs)"
      ]
    },
    {
      "cell_type": "code",
      "execution_count": 207,
      "id": "de08db8a",
      "metadata": {
        "execution": {
          "iopub.execute_input": "2021-11-11T18:03:32.947117Z",
          "iopub.status.busy": "2021-11-11T18:03:32.945168Z",
          "iopub.status.idle": "2021-11-11T18:03:32.948099Z",
          "shell.execute_reply": "2021-11-11T18:03:32.946197Z",
          "shell.execute_reply.started": "2021-11-09T12:03:56.985565Z"
        },
        "papermill": {
          "duration": 0.040939,
          "end_time": "2021-11-11T18:03:32.948310",
          "exception": false,
          "start_time": "2021-11-11T18:03:32.907371",
          "status": "completed"
        },
        "tags": [],
        "id": "de08db8a"
      },
      "outputs": [],
      "source": [
        "# Calculando a acurácia para o modelo de detecção de phishing.\n",
        "accuracy1 = 100.0 * accuracy_score(testing_outputs, predictions1)\n",
        "accuracy2 = 100.0 * accuracy_score(testing_outputs, predictions2)\n",
        "accuracy3 = 100.0 * accuracy_score(testing_outputs, predictions3)"
      ]
    },
    {
      "cell_type": "code",
      "execution_count": 208,
      "id": "c1d6ed7a",
      "metadata": {
        "execution": {
          "iopub.execute_input": "2021-11-11T18:03:33.003635Z",
          "iopub.status.busy": "2021-11-11T18:03:33.002940Z",
          "iopub.status.idle": "2021-11-11T18:03:33.005601Z",
          "shell.execute_reply": "2021-11-11T18:03:33.006119Z",
          "shell.execute_reply.started": "2021-11-09T12:03:56.998656Z"
        },
        "papermill": {
          "duration": 0.030958,
          "end_time": "2021-11-11T18:03:33.006292",
          "exception": false,
          "start_time": "2021-11-11T18:03:32.975334",
          "status": "completed"
        },
        "tags": [],
        "colab": {
          "base_uri": "https://localhost:8080/"
        },
        "id": "c1d6ed7a",
        "outputId": "6ed1d549-e4e7-4f3a-a63e-f6d8817426dd"
      },
      "outputs": [
        {
          "output_type": "stream",
          "name": "stdout",
          "text": [
            "A acurácia para o classificador de regressão logística sobre os dados de teste é: 92.94436906377204\n",
            "A acurácia para o classificador de árvore de decisão sobre os dados de teste é: 96.47218453188603\n",
            "A acurácia para o classificador de Random Forest sobre os dados de teste é: 97.24106739032112\n"
          ]
        }
      ],
      "source": [
        "# Imprimindo a acurácia para o modelo de detecção de phishing.\n",
        "print (\"A acurácia para o classificador de regressão logística sobre os dados de teste é: \" +str(accuracy1))\n",
        "print (\"A acurácia para o classificador de árvore de decisão sobre os dados de teste é: \" +str(accuracy2))\n",
        "print (\"A acurácia para o classificador de Random Forest sobre os dados de teste é: \" +str(accuracy3))"
      ]
    }
  ],
  "metadata": {
    "kernelspec": {
      "display_name": "Python 3",
      "language": "python",
      "name": "python3"
    },
    "language_info": {
      "codemirror_mode": {
        "name": "ipython",
        "version": 3
      },
      "file_extension": ".py",
      "mimetype": "text/x-python",
      "name": "python",
      "nbconvert_exporter": "python",
      "pygments_lexer": "ipython3",
      "version": "3.7.10"
    },
    "papermill": {
      "default_parameters": {},
      "duration": 12.751789,
      "end_time": "2021-11-11T18:03:33.731260",
      "environment_variables": {},
      "exception": null,
      "input_path": "__notebook__.ipynb",
      "output_path": "__notebook__.ipynb",
      "parameters": {},
      "start_time": "2021-11-11T18:03:20.979471",
      "version": "2.3.3"
    },
    "colab": {
      "provenance": []
    }
  },
  "nbformat": 4,
  "nbformat_minor": 5
}