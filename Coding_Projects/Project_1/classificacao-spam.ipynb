{
 "cells": [
  {
   "cell_type": "code",
   "execution_count": 6,
   "id": "ef1a830d",
   "metadata": {
    "_cell_guid": "b1076dfc-b9ad-4769-8c92-a6c4dae69d19",
    "_uuid": "8f2839f25d086af736a60e9eeb907d3b93b6e0e5",
    "execution": {
     "iopub.execute_input": "2021-11-15T14:05:05.587421Z",
     "iopub.status.busy": "2021-11-15T14:05:05.586182Z",
     "iopub.status.idle": "2021-11-15T14:05:05.598431Z",
     "shell.execute_reply": "2021-11-15T14:05:05.599228Z",
     "shell.execute_reply.started": "2021-11-10T14:54:46.034268Z"
    },
    "papermill": {
     "duration": 0.05054,
     "end_time": "2021-11-15T14:05:05.599686",
     "exception": false,
     "start_time": "2021-11-15T14:05:05.549146",
     "status": "completed"
    },
    "tags": []
   },
   "outputs": [],
   "source": [
    "#Estudo de caso 5 do curso de Introduação à Ciência de Dados Aplicada à Cibersegurança\n",
    "\n",
    "#Importando bibliotecas básicas\n",
    "\n",
    "import numpy as np # vetores e matrizes \n",
    "import pandas as pd # processamento dos dados, arquivo CSV I/O (e.g. pd.read_csv)\n",
    "\n",
    "# Input data files are available in the read-only \"../input/\" directory\n",
    "# For example, running this (by clicking run or pressing Shift+Enter) will list all files under the input directory\n",
    "\n",
    "import os\n",
    "for dirname, _, filenames in os.walk('/kaggle/input'):\n",
    "    for filename in filenames:\n",
    "        print(os.path.join(dirname, filename))\n",
    "\n",
    "# You can write up to 20GB to the current directory (/kaggle/working/) that gets preserved as output when you create a version using \"Save & Run All\" \n",
    "# You can also write temporary files to /kaggle/temp/, but they won't be saved outside of the current session"
   ]
  },
  {
   "cell_type": "code",
   "execution_count": 7,
   "id": "c1ca8842",
   "metadata": {
    "execution": {
     "iopub.execute_input": "2021-11-15T14:05:05.648545Z",
     "iopub.status.busy": "2021-11-15T14:05:05.647555Z",
     "iopub.status.idle": "2021-11-15T14:05:05.707147Z",
     "shell.execute_reply": "2021-11-15T14:05:05.707755Z",
     "shell.execute_reply.started": "2021-11-10T14:54:46.045299Z"
    },
    "papermill": {
     "duration": 0.08508,
     "end_time": "2021-11-15T14:05:05.708019",
     "exception": false,
     "start_time": "2021-11-15T14:05:05.622939",
     "status": "completed"
    },
    "tags": []
   },
   "outputs": [
    {
     "data": {
      "text/html": [
       "<div>\n",
       "<style scoped>\n",
       "    .dataframe tbody tr th:only-of-type {\n",
       "        vertical-align: middle;\n",
       "    }\n",
       "\n",
       "    .dataframe tbody tr th {\n",
       "        vertical-align: top;\n",
       "    }\n",
       "\n",
       "    .dataframe thead th {\n",
       "        text-align: right;\n",
       "    }\n",
       "</style>\n",
       "<table border=\"1\" class=\"dataframe\">\n",
       "  <thead>\n",
       "    <tr style=\"text-align: right;\">\n",
       "      <th></th>\n",
       "      <th>label</th>\n",
       "      <th>message</th>\n",
       "    </tr>\n",
       "  </thead>\n",
       "  <tbody>\n",
       "    <tr>\n",
       "      <th>0</th>\n",
       "      <td>ham</td>\n",
       "      <td>Go until jurong point, crazy.. Available only ...</td>\n",
       "    </tr>\n",
       "    <tr>\n",
       "      <th>1</th>\n",
       "      <td>ham</td>\n",
       "      <td>Ok lar... Joking wif u oni...</td>\n",
       "    </tr>\n",
       "    <tr>\n",
       "      <th>2</th>\n",
       "      <td>spam</td>\n",
       "      <td>Free entry in 2 a wkly comp to win FA Cup fina...</td>\n",
       "    </tr>\n",
       "    <tr>\n",
       "      <th>3</th>\n",
       "      <td>ham</td>\n",
       "      <td>U dun say so early hor... U c already then say...</td>\n",
       "    </tr>\n",
       "    <tr>\n",
       "      <th>4</th>\n",
       "      <td>ham</td>\n",
       "      <td>Nah I don't think he goes to usf, he lives aro...</td>\n",
       "    </tr>\n",
       "  </tbody>\n",
       "</table>\n",
       "</div>"
      ],
      "text/plain": [
       "  label                                            message\n",
       "0   ham  Go until jurong point, crazy.. Available only ...\n",
       "1   ham                      Ok lar... Joking wif u oni...\n",
       "2  spam  Free entry in 2 a wkly comp to win FA Cup fina...\n",
       "3   ham  U dun say so early hor... U c already then say...\n",
       "4   ham  Nah I don't think he goes to usf, he lives aro..."
      ]
     },
     "execution_count": 7,
     "metadata": {},
     "output_type": "execute_result"
    }
   ],
   "source": [
    "# Importando a base de dados para o pandas\n",
    "\n",
    "sms = pd.read_csv(\"kaggle/input/sms-spam-collection-dataset/spam.csv\", encoding = \"ISO-8859-1\", usecols=[0,1], skiprows=1,\n",
    "                  names=[\"label\", \"message\"])\n",
    "sms.head()"
   ]
  },
  {
   "cell_type": "code",
   "execution_count": 8,
   "id": "aeefbc49",
   "metadata": {
    "execution": {
     "iopub.execute_input": "2021-11-15T14:05:05.757027Z",
     "iopub.status.busy": "2021-11-15T14:05:05.756204Z",
     "iopub.status.idle": "2021-11-15T14:05:05.778197Z",
     "shell.execute_reply": "2021-11-15T14:05:05.778867Z",
     "shell.execute_reply.started": "2021-11-10T14:54:46.078303Z"
    },
    "papermill": {
     "duration": 0.047382,
     "end_time": "2021-11-15T14:05:05.779115",
     "exception": false,
     "start_time": "2021-11-15T14:05:05.731733",
     "status": "completed"
    },
    "tags": []
   },
   "outputs": [],
   "source": [
    "sms.label = sms.label.map({\"ham\":0, \"spam\":1})"
   ]
  },
  {
   "cell_type": "code",
   "execution_count": 9,
   "id": "f9669bd7",
   "metadata": {
    "execution": {
     "iopub.execute_input": "2021-11-15T14:05:05.823749Z",
     "iopub.status.busy": "2021-11-15T14:05:05.822852Z",
     "iopub.status.idle": "2021-11-15T14:05:05.833191Z",
     "shell.execute_reply": "2021-11-15T14:05:05.833722Z",
     "shell.execute_reply.started": "2021-11-10T14:54:46.085937Z"
    },
    "papermill": {
     "duration": 0.036287,
     "end_time": "2021-11-15T14:05:05.833991",
     "exception": false,
     "start_time": "2021-11-15T14:05:05.797704",
     "status": "completed"
    },
    "tags": []
   },
   "outputs": [
    {
     "data": {
      "text/plain": [
       "label\n",
       "0    4825\n",
       "1     747\n",
       "Name: count, dtype: int64"
      ]
     },
     "execution_count": 9,
     "metadata": {},
     "output_type": "execute_result"
    }
   ],
   "source": [
    "# mais casos negativos (ham) que positivos (spams) \n",
    "sms.label.value_counts()"
   ]
  },
  {
   "cell_type": "code",
   "execution_count": 10,
   "id": "5c6dcdd0",
   "metadata": {
    "execution": {
     "iopub.execute_input": "2021-11-15T14:05:05.880282Z",
     "iopub.status.busy": "2021-11-15T14:05:05.879544Z",
     "iopub.status.idle": "2021-11-15T14:05:07.186719Z",
     "shell.execute_reply": "2021-11-15T14:05:07.184396Z",
     "shell.execute_reply.started": "2021-11-10T14:54:46.106004Z"
    },
    "papermill": {
     "duration": 1.331978,
     "end_time": "2021-11-15T14:05:07.187491",
     "exception": false,
     "start_time": "2021-11-15T14:05:05.855513",
     "status": "completed"
    },
    "tags": []
   },
   "outputs": [],
   "source": [
    "#Dividindo a base em treino e teste\n",
    "from sklearn.model_selection import train_test_split\n",
    "features_train, features_test, labels_train, labels_test = train_test_split(sms.message, \n",
    "                                                                            sms.label, \n",
    "                                                                            test_size=0.2)"
   ]
  },
  {
   "cell_type": "code",
   "execution_count": 11,
   "id": "187d7e20",
   "metadata": {
    "execution": {
     "iopub.execute_input": "2021-11-15T14:05:07.232010Z",
     "iopub.status.busy": "2021-11-15T14:05:07.230806Z",
     "iopub.status.idle": "2021-11-15T14:05:07.413976Z",
     "shell.execute_reply": "2021-11-15T14:05:07.413180Z",
     "shell.execute_reply.started": "2021-11-10T14:54:46.117917Z"
    },
    "papermill": {
     "duration": 0.205324,
     "end_time": "2021-11-15T14:05:07.414146",
     "exception": false,
     "start_time": "2021-11-15T14:05:07.208822",
     "status": "completed"
    },
    "tags": []
   },
   "outputs": [
    {
     "data": {
      "text/html": [
       "<style>#sk-container-id-1 {\n",
       "  /* Definition of color scheme common for light and dark mode */\n",
       "  --sklearn-color-text: black;\n",
       "  --sklearn-color-line: gray;\n",
       "  /* Definition of color scheme for unfitted estimators */\n",
       "  --sklearn-color-unfitted-level-0: #fff5e6;\n",
       "  --sklearn-color-unfitted-level-1: #f6e4d2;\n",
       "  --sklearn-color-unfitted-level-2: #ffe0b3;\n",
       "  --sklearn-color-unfitted-level-3: chocolate;\n",
       "  /* Definition of color scheme for fitted estimators */\n",
       "  --sklearn-color-fitted-level-0: #f0f8ff;\n",
       "  --sklearn-color-fitted-level-1: #d4ebff;\n",
       "  --sklearn-color-fitted-level-2: #b3dbfd;\n",
       "  --sklearn-color-fitted-level-3: cornflowerblue;\n",
       "\n",
       "  /* Specific color for light theme */\n",
       "  --sklearn-color-text-on-default-background: var(--sg-text-color, var(--theme-code-foreground, var(--jp-content-font-color1, black)));\n",
       "  --sklearn-color-background: var(--sg-background-color, var(--theme-background, var(--jp-layout-color0, white)));\n",
       "  --sklearn-color-border-box: var(--sg-text-color, var(--theme-code-foreground, var(--jp-content-font-color1, black)));\n",
       "  --sklearn-color-icon: #696969;\n",
       "\n",
       "  @media (prefers-color-scheme: dark) {\n",
       "    /* Redefinition of color scheme for dark theme */\n",
       "    --sklearn-color-text-on-default-background: var(--sg-text-color, var(--theme-code-foreground, var(--jp-content-font-color1, white)));\n",
       "    --sklearn-color-background: var(--sg-background-color, var(--theme-background, var(--jp-layout-color0, #111)));\n",
       "    --sklearn-color-border-box: var(--sg-text-color, var(--theme-code-foreground, var(--jp-content-font-color1, white)));\n",
       "    --sklearn-color-icon: #878787;\n",
       "  }\n",
       "}\n",
       "\n",
       "#sk-container-id-1 {\n",
       "  color: var(--sklearn-color-text);\n",
       "}\n",
       "\n",
       "#sk-container-id-1 pre {\n",
       "  padding: 0;\n",
       "}\n",
       "\n",
       "#sk-container-id-1 input.sk-hidden--visually {\n",
       "  border: 0;\n",
       "  clip: rect(1px 1px 1px 1px);\n",
       "  clip: rect(1px, 1px, 1px, 1px);\n",
       "  height: 1px;\n",
       "  margin: -1px;\n",
       "  overflow: hidden;\n",
       "  padding: 0;\n",
       "  position: absolute;\n",
       "  width: 1px;\n",
       "}\n",
       "\n",
       "#sk-container-id-1 div.sk-dashed-wrapped {\n",
       "  border: 1px dashed var(--sklearn-color-line);\n",
       "  margin: 0 0.4em 0.5em 0.4em;\n",
       "  box-sizing: border-box;\n",
       "  padding-bottom: 0.4em;\n",
       "  background-color: var(--sklearn-color-background);\n",
       "}\n",
       "\n",
       "#sk-container-id-1 div.sk-container {\n",
       "  /* jupyter's `normalize.less` sets `[hidden] { display: none; }`\n",
       "     but bootstrap.min.css set `[hidden] { display: none !important; }`\n",
       "     so we also need the `!important` here to be able to override the\n",
       "     default hidden behavior on the sphinx rendered scikit-learn.org.\n",
       "     See: https://github.com/scikit-learn/scikit-learn/issues/21755 */\n",
       "  display: inline-block !important;\n",
       "  position: relative;\n",
       "}\n",
       "\n",
       "#sk-container-id-1 div.sk-text-repr-fallback {\n",
       "  display: none;\n",
       "}\n",
       "\n",
       "div.sk-parallel-item,\n",
       "div.sk-serial,\n",
       "div.sk-item {\n",
       "  /* draw centered vertical line to link estimators */\n",
       "  background-image: linear-gradient(var(--sklearn-color-text-on-default-background), var(--sklearn-color-text-on-default-background));\n",
       "  background-size: 2px 100%;\n",
       "  background-repeat: no-repeat;\n",
       "  background-position: center center;\n",
       "}\n",
       "\n",
       "/* Parallel-specific style estimator block */\n",
       "\n",
       "#sk-container-id-1 div.sk-parallel-item::after {\n",
       "  content: \"\";\n",
       "  width: 100%;\n",
       "  border-bottom: 2px solid var(--sklearn-color-text-on-default-background);\n",
       "  flex-grow: 1;\n",
       "}\n",
       "\n",
       "#sk-container-id-1 div.sk-parallel {\n",
       "  display: flex;\n",
       "  align-items: stretch;\n",
       "  justify-content: center;\n",
       "  background-color: var(--sklearn-color-background);\n",
       "  position: relative;\n",
       "}\n",
       "\n",
       "#sk-container-id-1 div.sk-parallel-item {\n",
       "  display: flex;\n",
       "  flex-direction: column;\n",
       "}\n",
       "\n",
       "#sk-container-id-1 div.sk-parallel-item:first-child::after {\n",
       "  align-self: flex-end;\n",
       "  width: 50%;\n",
       "}\n",
       "\n",
       "#sk-container-id-1 div.sk-parallel-item:last-child::after {\n",
       "  align-self: flex-start;\n",
       "  width: 50%;\n",
       "}\n",
       "\n",
       "#sk-container-id-1 div.sk-parallel-item:only-child::after {\n",
       "  width: 0;\n",
       "}\n",
       "\n",
       "/* Serial-specific style estimator block */\n",
       "\n",
       "#sk-container-id-1 div.sk-serial {\n",
       "  display: flex;\n",
       "  flex-direction: column;\n",
       "  align-items: center;\n",
       "  background-color: var(--sklearn-color-background);\n",
       "  padding-right: 1em;\n",
       "  padding-left: 1em;\n",
       "}\n",
       "\n",
       "\n",
       "/* Toggleable style: style used for estimator/Pipeline/ColumnTransformer box that is\n",
       "clickable and can be expanded/collapsed.\n",
       "- Pipeline and ColumnTransformer use this feature and define the default style\n",
       "- Estimators will overwrite some part of the style using the `sk-estimator` class\n",
       "*/\n",
       "\n",
       "/* Pipeline and ColumnTransformer style (default) */\n",
       "\n",
       "#sk-container-id-1 div.sk-toggleable {\n",
       "  /* Default theme specific background. It is overwritten whether we have a\n",
       "  specific estimator or a Pipeline/ColumnTransformer */\n",
       "  background-color: var(--sklearn-color-background);\n",
       "}\n",
       "\n",
       "/* Toggleable label */\n",
       "#sk-container-id-1 label.sk-toggleable__label {\n",
       "  cursor: pointer;\n",
       "  display: block;\n",
       "  width: 100%;\n",
       "  margin-bottom: 0;\n",
       "  padding: 0.5em;\n",
       "  box-sizing: border-box;\n",
       "  text-align: center;\n",
       "}\n",
       "\n",
       "#sk-container-id-1 label.sk-toggleable__label-arrow:before {\n",
       "  /* Arrow on the left of the label */\n",
       "  content: \"▸\";\n",
       "  float: left;\n",
       "  margin-right: 0.25em;\n",
       "  color: var(--sklearn-color-icon);\n",
       "}\n",
       "\n",
       "#sk-container-id-1 label.sk-toggleable__label-arrow:hover:before {\n",
       "  color: var(--sklearn-color-text);\n",
       "}\n",
       "\n",
       "/* Toggleable content - dropdown */\n",
       "\n",
       "#sk-container-id-1 div.sk-toggleable__content {\n",
       "  max-height: 0;\n",
       "  max-width: 0;\n",
       "  overflow: hidden;\n",
       "  text-align: left;\n",
       "  /* unfitted */\n",
       "  background-color: var(--sklearn-color-unfitted-level-0);\n",
       "}\n",
       "\n",
       "#sk-container-id-1 div.sk-toggleable__content.fitted {\n",
       "  /* fitted */\n",
       "  background-color: var(--sklearn-color-fitted-level-0);\n",
       "}\n",
       "\n",
       "#sk-container-id-1 div.sk-toggleable__content pre {\n",
       "  margin: 0.2em;\n",
       "  border-radius: 0.25em;\n",
       "  color: var(--sklearn-color-text);\n",
       "  /* unfitted */\n",
       "  background-color: var(--sklearn-color-unfitted-level-0);\n",
       "}\n",
       "\n",
       "#sk-container-id-1 div.sk-toggleable__content.fitted pre {\n",
       "  /* unfitted */\n",
       "  background-color: var(--sklearn-color-fitted-level-0);\n",
       "}\n",
       "\n",
       "#sk-container-id-1 input.sk-toggleable__control:checked~div.sk-toggleable__content {\n",
       "  /* Expand drop-down */\n",
       "  max-height: 200px;\n",
       "  max-width: 100%;\n",
       "  overflow: auto;\n",
       "}\n",
       "\n",
       "#sk-container-id-1 input.sk-toggleable__control:checked~label.sk-toggleable__label-arrow:before {\n",
       "  content: \"▾\";\n",
       "}\n",
       "\n",
       "/* Pipeline/ColumnTransformer-specific style */\n",
       "\n",
       "#sk-container-id-1 div.sk-label input.sk-toggleable__control:checked~label.sk-toggleable__label {\n",
       "  color: var(--sklearn-color-text);\n",
       "  background-color: var(--sklearn-color-unfitted-level-2);\n",
       "}\n",
       "\n",
       "#sk-container-id-1 div.sk-label.fitted input.sk-toggleable__control:checked~label.sk-toggleable__label {\n",
       "  background-color: var(--sklearn-color-fitted-level-2);\n",
       "}\n",
       "\n",
       "/* Estimator-specific style */\n",
       "\n",
       "/* Colorize estimator box */\n",
       "#sk-container-id-1 div.sk-estimator input.sk-toggleable__control:checked~label.sk-toggleable__label {\n",
       "  /* unfitted */\n",
       "  background-color: var(--sklearn-color-unfitted-level-2);\n",
       "}\n",
       "\n",
       "#sk-container-id-1 div.sk-estimator.fitted input.sk-toggleable__control:checked~label.sk-toggleable__label {\n",
       "  /* fitted */\n",
       "  background-color: var(--sklearn-color-fitted-level-2);\n",
       "}\n",
       "\n",
       "#sk-container-id-1 div.sk-label label.sk-toggleable__label,\n",
       "#sk-container-id-1 div.sk-label label {\n",
       "  /* The background is the default theme color */\n",
       "  color: var(--sklearn-color-text-on-default-background);\n",
       "}\n",
       "\n",
       "/* On hover, darken the color of the background */\n",
       "#sk-container-id-1 div.sk-label:hover label.sk-toggleable__label {\n",
       "  color: var(--sklearn-color-text);\n",
       "  background-color: var(--sklearn-color-unfitted-level-2);\n",
       "}\n",
       "\n",
       "/* Label box, darken color on hover, fitted */\n",
       "#sk-container-id-1 div.sk-label.fitted:hover label.sk-toggleable__label.fitted {\n",
       "  color: var(--sklearn-color-text);\n",
       "  background-color: var(--sklearn-color-fitted-level-2);\n",
       "}\n",
       "\n",
       "/* Estimator label */\n",
       "\n",
       "#sk-container-id-1 div.sk-label label {\n",
       "  font-family: monospace;\n",
       "  font-weight: bold;\n",
       "  display: inline-block;\n",
       "  line-height: 1.2em;\n",
       "}\n",
       "\n",
       "#sk-container-id-1 div.sk-label-container {\n",
       "  text-align: center;\n",
       "}\n",
       "\n",
       "/* Estimator-specific */\n",
       "#sk-container-id-1 div.sk-estimator {\n",
       "  font-family: monospace;\n",
       "  border: 1px dotted var(--sklearn-color-border-box);\n",
       "  border-radius: 0.25em;\n",
       "  box-sizing: border-box;\n",
       "  margin-bottom: 0.5em;\n",
       "  /* unfitted */\n",
       "  background-color: var(--sklearn-color-unfitted-level-0);\n",
       "}\n",
       "\n",
       "#sk-container-id-1 div.sk-estimator.fitted {\n",
       "  /* fitted */\n",
       "  background-color: var(--sklearn-color-fitted-level-0);\n",
       "}\n",
       "\n",
       "/* on hover */\n",
       "#sk-container-id-1 div.sk-estimator:hover {\n",
       "  /* unfitted */\n",
       "  background-color: var(--sklearn-color-unfitted-level-2);\n",
       "}\n",
       "\n",
       "#sk-container-id-1 div.sk-estimator.fitted:hover {\n",
       "  /* fitted */\n",
       "  background-color: var(--sklearn-color-fitted-level-2);\n",
       "}\n",
       "\n",
       "/* Specification for estimator info (e.g. \"i\" and \"?\") */\n",
       "\n",
       "/* Common style for \"i\" and \"?\" */\n",
       "\n",
       ".sk-estimator-doc-link,\n",
       "a:link.sk-estimator-doc-link,\n",
       "a:visited.sk-estimator-doc-link {\n",
       "  float: right;\n",
       "  font-size: smaller;\n",
       "  line-height: 1em;\n",
       "  font-family: monospace;\n",
       "  background-color: var(--sklearn-color-background);\n",
       "  border-radius: 1em;\n",
       "  height: 1em;\n",
       "  width: 1em;\n",
       "  text-decoration: none !important;\n",
       "  margin-left: 1ex;\n",
       "  /* unfitted */\n",
       "  border: var(--sklearn-color-unfitted-level-1) 1pt solid;\n",
       "  color: var(--sklearn-color-unfitted-level-1);\n",
       "}\n",
       "\n",
       ".sk-estimator-doc-link.fitted,\n",
       "a:link.sk-estimator-doc-link.fitted,\n",
       "a:visited.sk-estimator-doc-link.fitted {\n",
       "  /* fitted */\n",
       "  border: var(--sklearn-color-fitted-level-1) 1pt solid;\n",
       "  color: var(--sklearn-color-fitted-level-1);\n",
       "}\n",
       "\n",
       "/* On hover */\n",
       "div.sk-estimator:hover .sk-estimator-doc-link:hover,\n",
       ".sk-estimator-doc-link:hover,\n",
       "div.sk-label-container:hover .sk-estimator-doc-link:hover,\n",
       ".sk-estimator-doc-link:hover {\n",
       "  /* unfitted */\n",
       "  background-color: var(--sklearn-color-unfitted-level-3);\n",
       "  color: var(--sklearn-color-background);\n",
       "  text-decoration: none;\n",
       "}\n",
       "\n",
       "div.sk-estimator.fitted:hover .sk-estimator-doc-link.fitted:hover,\n",
       ".sk-estimator-doc-link.fitted:hover,\n",
       "div.sk-label-container:hover .sk-estimator-doc-link.fitted:hover,\n",
       ".sk-estimator-doc-link.fitted:hover {\n",
       "  /* fitted */\n",
       "  background-color: var(--sklearn-color-fitted-level-3);\n",
       "  color: var(--sklearn-color-background);\n",
       "  text-decoration: none;\n",
       "}\n",
       "\n",
       "/* Span, style for the box shown on hovering the info icon */\n",
       ".sk-estimator-doc-link span {\n",
       "  display: none;\n",
       "  z-index: 9999;\n",
       "  position: relative;\n",
       "  font-weight: normal;\n",
       "  right: .2ex;\n",
       "  padding: .5ex;\n",
       "  margin: .5ex;\n",
       "  width: min-content;\n",
       "  min-width: 20ex;\n",
       "  max-width: 50ex;\n",
       "  color: var(--sklearn-color-text);\n",
       "  box-shadow: 2pt 2pt 4pt #999;\n",
       "  /* unfitted */\n",
       "  background: var(--sklearn-color-unfitted-level-0);\n",
       "  border: .5pt solid var(--sklearn-color-unfitted-level-3);\n",
       "}\n",
       "\n",
       ".sk-estimator-doc-link.fitted span {\n",
       "  /* fitted */\n",
       "  background: var(--sklearn-color-fitted-level-0);\n",
       "  border: var(--sklearn-color-fitted-level-3);\n",
       "}\n",
       "\n",
       ".sk-estimator-doc-link:hover span {\n",
       "  display: block;\n",
       "}\n",
       "\n",
       "/* \"?\"-specific style due to the `<a>` HTML tag */\n",
       "\n",
       "#sk-container-id-1 a.estimator_doc_link {\n",
       "  float: right;\n",
       "  font-size: 1rem;\n",
       "  line-height: 1em;\n",
       "  font-family: monospace;\n",
       "  background-color: var(--sklearn-color-background);\n",
       "  border-radius: 1rem;\n",
       "  height: 1rem;\n",
       "  width: 1rem;\n",
       "  text-decoration: none;\n",
       "  /* unfitted */\n",
       "  color: var(--sklearn-color-unfitted-level-1);\n",
       "  border: var(--sklearn-color-unfitted-level-1) 1pt solid;\n",
       "}\n",
       "\n",
       "#sk-container-id-1 a.estimator_doc_link.fitted {\n",
       "  /* fitted */\n",
       "  border: var(--sklearn-color-fitted-level-1) 1pt solid;\n",
       "  color: var(--sklearn-color-fitted-level-1);\n",
       "}\n",
       "\n",
       "/* On hover */\n",
       "#sk-container-id-1 a.estimator_doc_link:hover {\n",
       "  /* unfitted */\n",
       "  background-color: var(--sklearn-color-unfitted-level-3);\n",
       "  color: var(--sklearn-color-background);\n",
       "  text-decoration: none;\n",
       "}\n",
       "\n",
       "#sk-container-id-1 a.estimator_doc_link.fitted:hover {\n",
       "  /* fitted */\n",
       "  background-color: var(--sklearn-color-fitted-level-3);\n",
       "}\n",
       "</style><div id=\"sk-container-id-1\" class=\"sk-top-container\"><div class=\"sk-text-repr-fallback\"><pre>CountVectorizer()</pre><b>In a Jupyter environment, please rerun this cell to show the HTML representation or trust the notebook. <br />On GitHub, the HTML representation is unable to render, please try loading this page with nbviewer.org.</b></div><div class=\"sk-container\" hidden><div class=\"sk-item\"><div class=\"sk-estimator fitted sk-toggleable\"><input class=\"sk-toggleable__control sk-hidden--visually\" id=\"sk-estimator-id-1\" type=\"checkbox\" checked><label for=\"sk-estimator-id-1\" class=\"sk-toggleable__label fitted sk-toggleable__label-arrow fitted\">&nbsp;&nbsp;CountVectorizer<a class=\"sk-estimator-doc-link fitted\" rel=\"noreferrer\" target=\"_blank\" href=\"https://scikit-learn.org/1.4/modules/generated/sklearn.feature_extraction.text.CountVectorizer.html\">?<span>Documentation for CountVectorizer</span></a><span class=\"sk-estimator-doc-link fitted\">i<span>Fitted</span></span></label><div class=\"sk-toggleable__content fitted\"><pre>CountVectorizer()</pre></div> </div></div></div></div>"
      ],
      "text/plain": [
       "CountVectorizer()"
      ]
     },
     "execution_count": 11,
     "metadata": {},
     "output_type": "execute_result"
    }
   ],
   "source": [
    "# Criando o documento de treino\n",
    "\n",
    "from sklearn.feature_extraction.text import CountVectorizer\n",
    "\n",
    "couvec = CountVectorizer()\n",
    "couvec.fit(features_train)"
   ]
  },
  {
   "cell_type": "code",
   "execution_count": 12,
   "id": "19b82849",
   "metadata": {
    "execution": {
     "iopub.execute_input": "2021-11-15T14:05:07.469482Z",
     "iopub.status.busy": "2021-11-15T14:05:07.468369Z",
     "iopub.status.idle": "2021-11-15T14:05:07.473016Z",
     "shell.execute_reply": "2021-11-15T14:05:07.472408Z",
     "shell.execute_reply.started": "2021-11-10T14:54:46.246639Z"
    },
    "papermill": {
     "duration": 0.037166,
     "end_time": "2021-11-15T14:05:07.473184",
     "exception": false,
     "start_time": "2021-11-15T14:05:07.436018",
     "status": "completed"
    },
    "tags": []
   },
   "outputs": [
    {
     "ename": "AttributeError",
     "evalue": "'CountVectorizer' object has no attribute 'get_feature_names'",
     "output_type": "error",
     "traceback": [
      "\u001b[0;31m---------------------------------------------------------------------------\u001b[0m",
      "\u001b[0;31mAttributeError\u001b[0m                            Traceback (most recent call last)",
      "Cell \u001b[0;32mIn[12], line 2\u001b[0m\n\u001b[1;32m      1\u001b[0m \u001b[38;5;66;03m# número de características ou tokens\u001b[39;00m\n\u001b[0;32m----> 2\u001b[0m trained_features \u001b[38;5;241m=\u001b[39m \u001b[43mcouvec\u001b[49m\u001b[38;5;241;43m.\u001b[39;49m\u001b[43mget_feature_names\u001b[49m()\n\u001b[1;32m      3\u001b[0m \u001b[38;5;28mprint\u001b[39m(\u001b[38;5;124m\"\u001b[39m\u001b[38;5;124mNúmero de características vetorizadas:\u001b[39m\u001b[38;5;124m\"\u001b[39m, \u001b[38;5;28mlen\u001b[39m(trained_features))\n\u001b[1;32m      4\u001b[0m \u001b[38;5;28mprint\u001b[39m(\u001b[38;5;124m\"\u001b[39m\u001b[38;5;124mExemplos de características treinadas:\u001b[39m\u001b[38;5;124m\"\u001b[39m, trained_features[\u001b[38;5;241m1\u001b[39m:\u001b[38;5;241m10\u001b[39m])\n",
      "\u001b[0;31mAttributeError\u001b[0m: 'CountVectorizer' object has no attribute 'get_feature_names'"
     ]
    }
   ],
   "source": [
    "# número de características ou tokens\n",
    "trained_features = couvec.get_feature_names()\n",
    "print(\"Número de características vetorizadas:\", len(trained_features))\n",
    "print(\"Exemplos de características treinadas:\", trained_features[1:10])"
   ]
  },
  {
   "cell_type": "code",
   "execution_count": null,
   "id": "ac8c023e",
   "metadata": {
    "execution": {
     "iopub.execute_input": "2021-11-15T14:05:07.545715Z",
     "iopub.status.busy": "2021-11-15T14:05:07.540545Z",
     "iopub.status.idle": "2021-11-15T14:05:07.692795Z",
     "shell.execute_reply": "2021-11-15T14:05:07.691755Z",
     "shell.execute_reply.started": "2021-11-10T14:54:46.258561Z"
    },
    "papermill": {
     "duration": 0.198735,
     "end_time": "2021-11-15T14:05:07.693015",
     "exception": false,
     "start_time": "2021-11-15T14:05:07.494280",
     "status": "completed"
    },
    "tags": []
   },
   "outputs": [
    {
     "name": "stdout",
     "output_type": "stream",
     "text": [
      "Shape of dtm_train: (4457, 7765)\n",
      "  (0, 2686)\t1\n",
      "  (0, 7541)\t1\n",
      "  (0, 7415)\t1\n",
      "  (0, 7461)\t1\n",
      "  (0, 6941)\t1\n",
      "  (0, 5761)\t1\n",
      "  (0, 4830)\t1\n",
      "  (1, 4990)\t1\n",
      "  (1, 5614)\t1\n",
      "  (1, 3657)\t1\n",
      "  (1, 4388)\t1\n",
      "  (1, 2604)\t1\n",
      "  (1, 6931)\t3\n",
      "  (1, 526)\t1\n",
      "  (1, 5328)\t1\n",
      "  (1, 3633)\t1\n",
      "  (1, 1905)\t1\n",
      "  (1, 2940)\t1\n",
      "  (1, 6813)\t1\n",
      "  (1, 764)\t1\n",
      "  (1, 7708)\t1\n",
      "  (1, 3290)\t1\n",
      "  (1, 1804)\t2\n",
      "  (1, 2984)\t1\n",
      "  (1, 5691)\t1\n",
      "  (1, 7549)\t1\n",
      "  (1, 6851)\t1\n",
      "  (1, 4603)\t1\n",
      "  (1, 6493)\t2\n",
      "  (1, 7087)\t1\n"
     ]
    }
   ],
   "source": [
    "# tokenized train documents\n",
    "\n",
    "dtm_train = couvec.fit_transform(features_train)\n",
    "print(\"Shape of dtm_train:\", dtm_train.shape)\n",
    "print(dtm_train[0:2]) # first two rows of sparse matrix"
   ]
  },
  {
   "cell_type": "code",
   "execution_count": null,
   "id": "adbbf20e",
   "metadata": {
    "execution": {
     "iopub.execute_input": "2021-11-15T14:05:07.747707Z",
     "iopub.status.busy": "2021-11-15T14:05:07.744393Z",
     "iopub.status.idle": "2021-11-15T14:05:07.782708Z",
     "shell.execute_reply": "2021-11-15T14:05:07.781862Z",
     "shell.execute_reply.started": "2021-11-10T14:54:46.392227Z"
    },
    "papermill": {
     "duration": 0.06769,
     "end_time": "2021-11-15T14:05:07.782908",
     "exception": false,
     "start_time": "2021-11-15T14:05:07.715218",
     "status": "completed"
    },
    "tags": []
   },
   "outputs": [
    {
     "name": "stdout",
     "output_type": "stream",
     "text": [
      "Shape of dtm_test: (1115, 7765)\n"
     ]
    }
   ],
   "source": [
    "# tokenized test documents\n",
    "\n",
    "dtm_test = couvec.transform(features_test)\n",
    "print(\"Shape of dtm_test:\", dtm_test.shape)"
   ]
  },
  {
   "cell_type": "code",
   "execution_count": null,
   "id": "1a0ce1a7",
   "metadata": {
    "execution": {
     "iopub.execute_input": "2021-11-15T14:05:07.835753Z",
     "iopub.status.busy": "2021-11-15T14:05:07.833389Z",
     "iopub.status.idle": "2021-11-15T14:05:07.842160Z",
     "shell.execute_reply": "2021-11-15T14:05:07.842749Z",
     "shell.execute_reply.started": "2021-11-10T14:54:46.432925Z"
    },
    "papermill": {
     "duration": 0.036549,
     "end_time": "2021-11-15T14:05:07.843017",
     "exception": false,
     "start_time": "2021-11-15T14:05:07.806468",
     "status": "completed"
    },
    "tags": []
   },
   "outputs": [],
   "source": [
    "# Construíndo e avaliando o modelo \n",
    "\n",
    "# Multimodal Naive Bayes \n",
    "# O classificador multimodal Naive Bays é útil para classificar características discretas. \n",
    "# (e.g., número de palavras para classificação de textos). \n",
    "# A distribuição multimodal requer geralmente contadores inteiros como features.\n",
    "\n",
    "# Importando e instanciando o modelo Nayve Bayes Multimodal\n",
    "from sklearn.naive_bayes import MultinomialNB\n",
    "nb = MultinomialNB()"
   ]
  },
  {
   "cell_type": "code",
   "execution_count": null,
   "id": "b50d7189",
   "metadata": {
    "execution": {
     "iopub.execute_input": "2021-11-15T14:05:07.892844Z",
     "iopub.status.busy": "2021-11-15T14:05:07.892067Z",
     "iopub.status.idle": "2021-11-15T14:05:07.901282Z",
     "shell.execute_reply": "2021-11-15T14:05:07.901983Z",
     "shell.execute_reply.started": "2021-11-10T14:54:46.440874Z"
    },
    "papermill": {
     "duration": 0.036323,
     "end_time": "2021-11-15T14:05:07.902187",
     "exception": false,
     "start_time": "2021-11-15T14:05:07.865864",
     "status": "completed"
    },
    "tags": []
   },
   "outputs": [
    {
     "data": {
      "text/plain": [
       "MultinomialNB()"
      ]
     },
     "execution_count": 11,
     "metadata": {},
     "output_type": "execute_result"
    }
   ],
   "source": [
    "# Treinando o modelo\n",
    "\n",
    "nb.fit(dtm_train, labels_train)"
   ]
  },
  {
   "cell_type": "code",
   "execution_count": null,
   "id": "a557e4a8",
   "metadata": {
    "execution": {
     "iopub.execute_input": "2021-11-15T14:05:07.956549Z",
     "iopub.status.busy": "2021-11-15T14:05:07.955381Z",
     "iopub.status.idle": "2021-11-15T14:05:07.960490Z",
     "shell.execute_reply": "2021-11-15T14:05:07.961122Z",
     "shell.execute_reply.started": "2021-11-10T14:54:46.456428Z"
    },
    "papermill": {
     "duration": 0.032744,
     "end_time": "2021-11-15T14:05:07.961343",
     "exception": false,
     "start_time": "2021-11-15T14:05:07.928599",
     "status": "completed"
    },
    "tags": []
   },
   "outputs": [],
   "source": [
    "# Fazendo predições\n",
    "labels_pred = nb.predict(dtm_test)"
   ]
  },
  {
   "cell_type": "code",
   "execution_count": null,
   "id": "ca338ef7",
   "metadata": {
    "execution": {
     "iopub.execute_input": "2021-11-15T14:05:08.013945Z",
     "iopub.status.busy": "2021-11-15T14:05:08.013022Z",
     "iopub.status.idle": "2021-11-15T14:05:08.020895Z",
     "shell.execute_reply": "2021-11-15T14:05:08.021455Z",
     "shell.execute_reply.started": "2021-11-10T14:54:46.465474Z"
    },
    "papermill": {
     "duration": 0.03582,
     "end_time": "2021-11-15T14:05:08.021667",
     "exception": false,
     "start_time": "2021-11-15T14:05:07.985847",
     "status": "completed"
    },
    "tags": []
   },
   "outputs": [
    {
     "data": {
      "text/plain": [
       "0.9856502242152466"
      ]
     },
     "execution_count": 13,
     "metadata": {},
     "output_type": "execute_result"
    }
   ],
   "source": [
    "# Acurácia\n",
    "from sklearn import metrics\n",
    "metrics.accuracy_score(labels_test, labels_pred)"
   ]
  },
  {
   "cell_type": "code",
   "execution_count": null,
   "id": "0c1fe6d3",
   "metadata": {
    "execution": {
     "iopub.execute_input": "2021-11-15T14:05:08.074194Z",
     "iopub.status.busy": "2021-11-15T14:05:08.072824Z",
     "iopub.status.idle": "2021-11-15T14:05:08.083832Z",
     "shell.execute_reply": "2021-11-15T14:05:08.084537Z",
     "shell.execute_reply.started": "2021-11-10T14:54:46.483728Z"
    },
    "papermill": {
     "duration": 0.038406,
     "end_time": "2021-11-15T14:05:08.084779",
     "exception": false,
     "start_time": "2021-11-15T14:05:08.046373",
     "status": "completed"
    },
    "tags": []
   },
   "outputs": [
    {
     "data": {
      "text/plain": [
       "array([[971,   7],\n",
       "       [  9, 128]])"
      ]
     },
     "execution_count": 14,
     "metadata": {},
     "output_type": "execute_result"
    }
   ],
   "source": [
    "# Criando a matrix de confusão para precisão e recall (essas são duas outrss métricas de avaliação) \n",
    "metrics.confusion_matrix(labels_test, labels_pred)"
   ]
  },
  {
   "cell_type": "code",
   "execution_count": null,
   "id": "0a610761",
   "metadata": {
    "execution": {
     "iopub.execute_input": "2021-11-15T14:05:08.140260Z",
     "iopub.status.busy": "2021-11-15T14:05:08.139447Z",
     "iopub.status.idle": "2021-11-15T14:05:08.150314Z",
     "shell.execute_reply": "2021-11-15T14:05:08.151334Z",
     "shell.execute_reply.started": "2021-11-10T14:54:46.498663Z"
    },
    "papermill": {
     "duration": 0.041027,
     "end_time": "2021-11-15T14:05:08.151647",
     "exception": false,
     "start_time": "2021-11-15T14:05:08.110620",
     "status": "completed"
    },
    "tags": []
   },
   "outputs": [
    {
     "name": "stdout",
     "output_type": "stream",
     "text": [
      "Recall: 0.9343065693430657\n",
      "Precisão: 0.9481481481481482\n"
     ]
    }
   ],
   "source": [
    "# Percentagem do total de spams detectados i.e.recall\n",
    "print(\"Recall:\", metrics.recall_score(labels_test, labels_pred))\n",
    "# Percentagem das predições positivas (spams) corretas, i.e. precisão\n",
    "print(\"Precisão:\", metrics.precision_score(labels_test, labels_pred))\n",
    "print(\"Ordem das classes no predict_proba:\", nb.classes_)\n",
    "print(\"Exemplos de probabilidades de classes:\", nb.predict_proba(dtm_test)[0])\n"
   ]
  },
  {
   "cell_type": "code",
   "execution_count": null,
   "id": "a54770c2",
   "metadata": {
    "execution": {
     "iopub.execute_input": "2021-11-15T14:05:08.272958Z",
     "iopub.status.busy": "2021-11-15T14:05:08.272140Z",
     "iopub.status.idle": "2021-11-15T14:05:08.280482Z",
     "shell.execute_reply": "2021-11-15T14:05:08.279743Z",
     "shell.execute_reply.started": "2021-11-10T14:54:46.522845Z"
    },
    "papermill": {
     "duration": 0.039217,
     "end_time": "2021-11-15T14:05:08.280655",
     "exception": false,
     "start_time": "2021-11-15T14:05:08.241438",
     "status": "completed"
    },
    "tags": []
   },
   "outputs": [],
   "source": [
    "# Uma vez que somente ~15% dos rótulos são positivos (spam), a curva precisão-recall é mais informativa que\n",
    "# a curva ROC\n",
    "\n",
    "labels_prob = nb.predict_proba(dtm_test)[:, 1]\n",
    "precisions, recalls, thresholds = metrics.precision_recall_curve(labels_test, labels_prob)"
   ]
  },
  {
   "cell_type": "code",
   "execution_count": null,
   "id": "eeca8548",
   "metadata": {
    "execution": {
     "iopub.execute_input": "2021-11-15T14:05:08.349657Z",
     "iopub.status.busy": "2021-11-15T14:05:08.345103Z",
     "iopub.status.idle": "2021-11-15T14:05:08.808366Z",
     "shell.execute_reply": "2021-11-15T14:05:08.809577Z",
     "shell.execute_reply.started": "2021-11-10T14:54:46.535702Z"
    },
    "papermill": {
     "duration": 0.504082,
     "end_time": "2021-11-15T14:05:08.809871",
     "exception": false,
     "start_time": "2021-11-15T14:05:08.305789",
     "status": "completed"
    },
    "tags": []
   },
   "outputs": [
    {
     "ename": "NameError",
     "evalue": "name 'precisions' is not defined",
     "output_type": "error",
     "traceback": [
      "\u001b[0;31m---------------------------------------------------------------------------\u001b[0m",
      "\u001b[0;31mNameError\u001b[0m                                 Traceback (most recent call last)",
      "Cell \u001b[0;32mIn[1], line 5\u001b[0m\n\u001b[1;32m      3\u001b[0m \u001b[38;5;28;01mimport\u001b[39;00m \u001b[38;5;21;01mmatplotlib\u001b[39;00m\u001b[38;5;21;01m.\u001b[39;00m\u001b[38;5;21;01mpyplot\u001b[39;00m \u001b[38;5;28;01mas\u001b[39;00m \u001b[38;5;21;01mplt\u001b[39;00m\n\u001b[1;32m      4\u001b[0m plt\u001b[38;5;241m.\u001b[39mfigure(figsize\u001b[38;5;241m=\u001b[39m(\u001b[38;5;241m10\u001b[39m, \u001b[38;5;241m7\u001b[39m))\n\u001b[0;32m----> 5\u001b[0m plt\u001b[38;5;241m.\u001b[39mplot(\u001b[43mprecisions\u001b[49m[:\u001b[38;5;241m-\u001b[39m\u001b[38;5;241m1\u001b[39m], recalls[:\u001b[38;5;241m-\u001b[39m\u001b[38;5;241m1\u001b[39m])\n\u001b[1;32m      6\u001b[0m plt\u001b[38;5;241m.\u001b[39mxlabel(\u001b[38;5;124m\"\u001b[39m\u001b[38;5;124mRecalls\u001b[39m\u001b[38;5;124m\"\u001b[39m)\n\u001b[1;32m      7\u001b[0m plt\u001b[38;5;241m.\u001b[39mxticks(np\u001b[38;5;241m.\u001b[39marange(\u001b[38;5;241m0\u001b[39m, \u001b[38;5;241m1.1\u001b[39m, \u001b[38;5;241m0.1\u001b[39m))\n",
      "\u001b[0;31mNameError\u001b[0m: name 'precisions' is not defined"
     ]
    },
    {
     "data": {
      "text/plain": [
       "<Figure size 1000x700 with 0 Axes>"
      ]
     },
     "metadata": {},
     "output_type": "display_data"
    }
   ],
   "source": [
    "# Plotando a curva precisão-recall \n",
    "\n",
    "import matplotlib.pyplot as plt\n",
    "plt.figure(figsize=(10, 7))\n",
    "plt.plot(precisions[:-1], recalls[:-1])\n",
    "plt.xlabel(\"Recalls\")\n",
    "plt.xticks(np.arange(0, 1.1, 0.1))\n",
    "plt.ylabel(\"Precisão\")\n",
    "plt.yticks(np.arange(0, 1.1, 0.1))\n",
    "plt.title(\"Curva Precisão-Recall\")\n",
    "plt.show()"
   ]
  }
 ],
 "metadata": {
  "kernelspec": {
   "display_name": "Python 3",
   "language": "python",
   "name": "python3"
  },
  "language_info": {
   "codemirror_mode": {
    "name": "ipython",
    "version": 3
   },
   "file_extension": ".py",
   "mimetype": "text/x-python",
   "name": "python",
   "nbconvert_exporter": "python",
   "pygments_lexer": "ipython3",
   "version": "3.10.12"
  },
  "papermill": {
   "default_parameters": {},
   "duration": 17.08365,
   "end_time": "2021-11-15T14:05:09.953000",
   "environment_variables": {},
   "exception": null,
   "input_path": "__notebook__.ipynb",
   "output_path": "__notebook__.ipynb",
   "parameters": {},
   "start_time": "2021-11-15T14:04:52.869350",
   "version": "2.3.3"
  }
 },
 "nbformat": 4,
 "nbformat_minor": 5
}
